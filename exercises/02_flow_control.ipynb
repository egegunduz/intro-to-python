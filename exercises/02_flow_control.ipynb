{
 "cells": [
  {
   "cell_type": "markdown",
   "metadata": {},
   "source": [
    "# Exercises Set 2: Flow Control"
   ]
  },
  {
   "cell_type": "markdown",
   "metadata": {},
   "source": [
    "This notebook assumes you have worked through chapters 5 and 6."
   ]
  },
  {
   "cell_type": "markdown",
   "metadata": {},
   "source": [
    "## Review Questions"
   ]
  },
  {
   "cell_type": "markdown",
   "metadata": {},
   "source": [
    "**Answer the following questions with one or two short paragraphs (up to 250 words per question).**"
   ]
  },
  {
   "cell_type": "markdown",
   "metadata": {},
   "source": [
    "**Q1**: What is so \"special\" about the number 7919 ?"
   ]
  },
  {
   "cell_type": "markdown",
   "metadata": {},
   "source": [
    " "
   ]
  },
  {
   "cell_type": "markdown",
   "metadata": {},
   "source": [
    "**Q2**: What do we mean by syntactic sugar?"
   ]
  },
  {
   "cell_type": "markdown",
   "metadata": {},
   "source": [
    " "
   ]
  },
  {
   "cell_type": "markdown",
   "metadata": {},
   "source": [
    "**Q3**: Describe in layman's words why the recursive implementation of the `fibonacci()` function in the \"Easy at first Glance\" example is computationally inefficient. Why does the `fibonacci()` function in the \"Hard at first Glance\" example run so much faster?"
   ]
  },
  {
   "cell_type": "markdown",
   "metadata": {},
   "source": [
    " "
   ]
  },
  {
   "cell_type": "markdown",
   "metadata": {},
   "source": [
    "**Q4**: In what very common use case is the `for` loop's optional `else` clause very useful and why is such a solution more Pythonic than a solution without the `else`?"
   ]
  },
  {
   "cell_type": "markdown",
   "metadata": {},
   "source": [
    " "
   ]
  },
  {
   "cell_type": "markdown",
   "metadata": {},
   "source": [
    "**Q5**: Solving a problem by a recursion is not only popular in computer science and math. Name some examples from the fields of business and/or economics where problems are also solved in a \"backwards\" fashion."
   ]
  },
  {
   "cell_type": "markdown",
   "metadata": {},
   "source": [
    " "
   ]
  },
  {
   "cell_type": "markdown",
   "metadata": {},
   "source": [
    "**Q6**: Explain in your own words what duck typing is, why it can cause problems, but also why it is [not a bug but a feature](https://www.urbandictionary.com/define.php?term=It%27s%20not%20a%20bug%2C%20it%27s%20a%20feature)."
   ]
  },
  {
   "cell_type": "markdown",
   "metadata": {},
   "source": [
    " "
   ]
  },
  {
   "cell_type": "markdown",
   "metadata": {},
   "source": [
    "**Q7**: What is the conceptual difference between a container and a list?"
   ]
  },
  {
   "cell_type": "markdown",
   "metadata": {},
   "source": [
    " "
   ]
  },
  {
   "cell_type": "markdown",
   "metadata": {},
   "source": [
    "**True or false? Motivate your answer with one short sentence.**"
   ]
  },
  {
   "cell_type": "markdown",
   "metadata": {},
   "source": [
    "**Q8**: Whereas with recursion there is a realistic chance that we run into a never ending situation, `while` loops are safe in that they always terminate."
   ]
  },
  {
   "cell_type": "markdown",
   "metadata": {},
   "source": [
    " "
   ]
  },
  {
   "cell_type": "markdown",
   "metadata": {},
   "source": [
    "**Q9**: A programming language without looping constructs like `for` and `while` can still be Turing complete."
   ]
  },
  {
   "cell_type": "markdown",
   "metadata": {},
   "source": [
    " "
   ]
  },
  {
   "cell_type": "markdown",
   "metadata": {},
   "source": [
    "**Q10**: When during a recursive process the base case is not reached, we call this an early exit strategy."
   ]
  },
  {
   "cell_type": "markdown",
   "metadata": {},
   "source": [
    " "
   ]
  },
  {
   "cell_type": "markdown",
   "metadata": {},
   "source": [
    "**Q11**: A recursive definition of a program is the same as a circular one. The terms are synonyms."
   ]
  },
  {
   "cell_type": "markdown",
   "metadata": {},
   "source": [
    " "
   ]
  },
  {
   "cell_type": "markdown",
   "metadata": {},
   "source": [
    "**Q12**: Container-like objects such as a `list` are characterized by the fact that they support being iterated over, for example as in `for item in container:`."
   ]
  },
  {
   "cell_type": "markdown",
   "metadata": {},
   "source": [
    " "
   ]
  },
  {
   "cell_type": "markdown",
   "metadata": {},
   "source": [
    "**Q13**: Implementing a computational problem as a recursion always leads to an easy to understand program."
   ]
  },
  {
   "cell_type": "markdown",
   "metadata": {},
   "source": [
    " "
   ]
  },
  {
   "cell_type": "markdown",
   "metadata": {},
   "source": [
    "**Q14**: Before writing any kind of loop in Python, we need to always determine the stopping criterion ahead of time."
   ]
  },
  {
   "cell_type": "markdown",
   "metadata": {},
   "source": [
    " "
   ]
  },
  {
   "cell_type": "markdown",
   "metadata": {},
   "source": [
    "## Coding Tasks"
   ]
  },
  {
   "cell_type": "markdown",
   "metadata": {},
   "source": [
    "### Towers of Hanoi\n",
    "\n",
    "A very popular example for a problem solved by recursion are the [Towers of Hanoi](https://en.wikipedia.org/wiki/Tower_of_Hanoi). In its basic version, a \"tower\" consisting of, for example, four disks with increasing radii, is placed on the left-most of three adjacent spots (in the following, we refer to the number of disks as $n$, so here $n=4$). The task is to move the entire tower to the right-most spot whereby two rules must be obeyed:\n",
    "1. disks can only be moved individually, and\n",
    "2. a disk with a larger radius must *not* be placed on a disk with a smaller one.\n",
    "\n",
    "Although the Towers of Hanoi are a *classic* example (already introduced by mathematician [Édouard Lucas](https://en.wikipedia.org/wiki/%C3%89douard_Lucas) in 1883), it is still actively researched as this [article](https://www.worldscientific.com/doi/abs/10.1142/S1793830919300017?journalCode=dmaa&) published in January 2019 shows.\n",
    "\n",
    "Despite being so simple to formulate, the game is actually quite hard to solve.\n",
    "\n",
    "Below is an interactive illustration of the solution with the minimal number of moves for $n=4$."
   ]
  },
  {
   "cell_type": "markdown",
   "metadata": {},
   "source": [
    "<img src=\"towers_of_hanoi.gif\" width=\"60%\" align=\"left\">"
   ]
  },
  {
   "cell_type": "markdown",
   "metadata": {},
   "source": [
    "Watch the following video by [MIT](https://www.mit.edu/) professor [Richard Larson](https://idss.mit.edu/staff/richard-larson/) for a comprehensive introduction. The [MIT Blossoms Initative](https://blossoms.mit.edu/) is aimed at high school students primarily and does not have any prerequisites. Note that the video is made up of three segments the last of which is not necessary to have watched in order to solve the tasks below (so watch the video until 37:55)."
   ]
  },
  {
   "cell_type": "code",
   "execution_count": null,
   "metadata": {},
   "outputs": [],
   "source": [
    "from IPython.display import YouTubeVideo\n",
    "YouTubeVideo(\"UuIneNBbscc\", width=\"60%\")"
   ]
  },
  {
   "cell_type": "markdown",
   "metadata": {},
   "source": [
    "**Q15.1**: Explain for the $n=3$ case why it can be solved as a recursion (i.e., by solving the $n=2$ case first)."
   ]
  },
  {
   "cell_type": "markdown",
   "metadata": {},
   "source": [
    " "
   ]
  },
  {
   "cell_type": "markdown",
   "metadata": {},
   "source": [
    "**Q15.2**: How does the number of minimal moves needed to solve a problem with three spots and $n$ disks grow (as a function of $n$)? How does this relate to your answer to **Q15.1**?"
   ]
  },
  {
   "cell_type": "markdown",
   "metadata": {},
   "source": [
    " "
   ]
  },
  {
   "cell_type": "markdown",
   "metadata": {},
   "source": [
    "**Q15.3**: The Towers of Hanoi problem is of exponential growth. What do we mean by that? What does that imply for large $n$ like in the \"Monks\" example in the video? To which example in chapter 5 does this observation also apply?"
   ]
  },
  {
   "cell_type": "markdown",
   "metadata": {},
   "source": [
    " "
   ]
  },
  {
   "cell_type": "markdown",
   "metadata": {},
   "source": [
    "**Q15.4**: In the video the recursive relationship $Sol(4, 1, 3) = Sol(3, 1, 2) ~ \\bigoplus ~ Sol(1, 1, 3) ~ \\bigoplus ~ Sol(3, 2, 3)$ is stated where $\\bigoplus$ is to be interpreted as some sort of \"plus\" operation. How does this way of expressing the problem relate to your answer to **Q15.1**? How does the \"plus\" operation $\\bigoplus$ work?"
   ]
  },
  {
   "cell_type": "markdown",
   "metadata": {},
   "source": [
    " "
   ]
  },
  {
   "cell_type": "markdown",
   "metadata": {},
   "source": [
    "#### Translating the Problem into Python\n",
    "\n",
    "In the following, you will convert the mathematical notation from the video into Python code. Since a lot can go wrong and most likely the first couple of tries will end in *semantic* errors (i.e., the code runs but produces an infeasible set of moves), it is advisable to have some sort of visualization of the progam's flow of execution. Therefore, it is recommended to use some online version of the game (like the one on [mathsisfun.com](https://www.mathsisfun.com/games/towerofhanoi.html)) and try out the solutions your implementations create. Besides feasible solutions, we are, of course, also interested in the solutions with the minimal number of steps needed to move a tower from one spot to another."
   ]
  },
  {
   "cell_type": "markdown",
   "metadata": {},
   "source": [
    "Let's first generalize the mathematical relationship from above. While the first number of $Sol(\\cdot)$ is the number of disks $n$, the second and third \"numbers\" are actually labels. Instead of spots $1$, $2$, and $3$ we could also call them *left*, *center*, and *right*. When \"passed\" into the $Sol(\\cdot)$ function they take on the role of an origin ($o$) and destination ($d$) pair. So, the expression $Sol(4, 1, 3)$ would be the same as $Sol(4, \\text{\"left\"}, \\text{\"right\"})$ and refers to the problem of moving a tower consisting of $4$ disks from origin $1$ / \"left\" to destination $3$ / \"right\". As we have seen in the video, we need some intermediate ($i$) spot that can be used temporarily."
   ]
  },
  {
   "cell_type": "markdown",
   "metadata": {},
   "source": [
    "In summary, the generalized expression functional relationship can be expressed as:\n",
    "\n",
    "$Sol(n, o, d) = Sol(n-1, o, i) ~ \\bigoplus ~ Sol(1, o, d) ~ \\bigoplus ~ Sol(n-1, i, d)$"
   ]
  },
  {
   "cell_type": "markdown",
   "metadata": {},
   "source": [
    "That states that in order to move a tower consisting of $n$ disks from an origin $o$ to a destination $d$, we need to execute three steps:\n",
    "1. Move the top most $n-1$ disks of the tower temporarily from $o$ to $i$ (= sub-problem 1).\n",
    "2. Move the remaining and largest disk from $o$ to $d$.\n",
    "3. Move the the $n-1$ disks from the temporary spot $i$ to $d$ (= sub-problem 2).\n",
    "\n",
    "The two sub-problems themselves can be solved via the same logic again and so on."
   ]
  },
  {
   "cell_type": "markdown",
   "metadata": {},
   "source": [
    "$Sol(\\cdot)$ can be written in Python as a function like `sol()` further below, which takes three arguments `disks`, `origin`, and `destination` that mirror $n$, $o$, and $d$ above. Once completed, `sol()` will print out all the moves in the correct order."
   ]
  },
  {
   "cell_type": "markdown",
   "metadata": {},
   "source": [
    "**Q15.5**: As we saw in chapter 5, every recursion needs a base case. What is the value of `disks` when the function reaches its base case? Given your answer, add code to `sol()` to check for the base case and simply return the function using an early exit pattern."
   ]
  },
  {
   "cell_type": "markdown",
   "metadata": {},
   "source": [
    " "
   ]
  },
  {
   "cell_type": "markdown",
   "metadata": {},
   "source": [
    "**Q15.6**: Given concrete values for `origin` and `destination`, `sol()` needs to figure out what the respective temporary or `intermediate` spot is. For example, for `origin=1` and `destination=2`, `intermediate` is $3$. Add some `if`-`elif`-`else`-logic to `sol()` that looks at all the possible pairs `origin` and `destination` can come in and creates a variable `intermediate` with the correct temporary spot. How many branches will be necessary? For this task, assume that all arguments will be integers (as shown in **Q15.8**)."
   ]
  },
  {
   "cell_type": "markdown",
   "metadata": {},
   "source": [
    " "
   ]
  },
  {
   "cell_type": "markdown",
   "metadata": {},
   "source": [
    "**Q15.7**: The third and last part of `sol()` needs to call itself two more times with the correct pairs of two chosen from the three available spots `origin`, `intermediate`, and `destination`. In between the two function calls, write a `print()` statement that prints out from where to where the \"remaining and largest\" disk has to be moved."
   ]
  },
  {
   "cell_type": "code",
   "execution_count": null,
   "metadata": {},
   "outputs": [],
   "source": [
    "def sol(disks, origin, destination):\n",
    "\n",
    "    # Handle the base case.\n",
    "\n",
    "    # Complete the logic to set intermediate\n",
    "    # according to origin and destination.\n",
    "    if origin == ... and destination == ...:\n",
    "        intermediate = ...\n",
    "    elif origin == ... and destination == ...:\n",
    "        intermediate = ...\n",
    "\n",
    "    ...\n",
    "\n",
    "    else:\n",
    "        ...\n",
    "\n",
    "    # Complete the recursion by calling the\n",
    "    # function itself with (changed) arguments.\n",
    "    sol(..., ..., ...)\n",
    "    print(..., \"->\", ...)\n",
    "    sol(..., ..., ...)"
   ]
  },
  {
   "cell_type": "markdown",
   "metadata": {},
   "source": [
    "**Q15.8**: Execute the four cells below and confirm that the printed moves are correct."
   ]
  },
  {
   "cell_type": "code",
   "execution_count": null,
   "metadata": {},
   "outputs": [],
   "source": [
    "sol(1, 1, 3)"
   ]
  },
  {
   "cell_type": "code",
   "execution_count": null,
   "metadata": {},
   "outputs": [],
   "source": [
    "sol(2, 1, 3)"
   ]
  },
  {
   "cell_type": "code",
   "execution_count": null,
   "metadata": {},
   "outputs": [],
   "source": [
    "sol(3, 1, 3)"
   ]
  },
  {
   "cell_type": "code",
   "execution_count": null,
   "metadata": {},
   "outputs": [],
   "source": [
    "sol(4, 1, 3)"
   ]
  },
  {
   "cell_type": "markdown",
   "metadata": {},
   "source": [
    "#### Pythonic Re-Factoring\n",
    "\n",
    "The above `sol()` implementation does the job but the conditional statement needed in unnecessarily tedious and a bit hard to read. Let's create a more compact `hanoi()` function that in addition to `disks` takes three keyword-only arguments `origin`, `intermediate`, and `destination` with default values \"left\", \"center\", and \"right\"."
   ]
  },
  {
   "cell_type": "markdown",
   "metadata": {},
   "source": [
    "**Q15.9**: Copy the handling of the base case from `sol()`."
   ]
  },
  {
   "cell_type": "markdown",
   "metadata": {},
   "source": [
    "**Q15.10**: Instead of conditional logic, `hanoi()` calls itself two times with the arguments `origin`, `intermediate`, and `destination` passed in a different order. Complete the recursive `hanoi()` calls."
   ]
  },
  {
   "cell_type": "code",
   "execution_count": null,
   "metadata": {},
   "outputs": [],
   "source": [
    "def hanoi(disks, *, origin=\"left\", intermediate=\"center\", destination=\"right\"):\n",
    "\n",
    "    # Handle the base case.\n",
    "\n",
    "    # Complete the recursion by calling the function itself with (changed) arguments.\n",
    "    hanoi(..., origin=..., intermediate=..., destination=...)\n",
    "    print(..., \"->\", ...)\n",
    "    hanoi(..., origin=..., intermediate=..., destination=...)"
   ]
  },
  {
   "cell_type": "markdown",
   "metadata": {},
   "source": [
    "**Q15.11**: Execute the five cells below and confirm that the printed moves are correct."
   ]
  },
  {
   "cell_type": "code",
   "execution_count": null,
   "metadata": {},
   "outputs": [],
   "source": [
    "hanoi(1)"
   ]
  },
  {
   "cell_type": "code",
   "execution_count": null,
   "metadata": {},
   "outputs": [],
   "source": [
    "hanoi(2)"
   ]
  },
  {
   "cell_type": "code",
   "execution_count": null,
   "metadata": {},
   "outputs": [],
   "source": [
    "hanoi(3)"
   ]
  },
  {
   "cell_type": "code",
   "execution_count": null,
   "metadata": {},
   "outputs": [],
   "source": [
    "hanoi(4)"
   ]
  },
  {
   "cell_type": "markdown",
   "metadata": {},
   "source": [
    "We could of course also use numeric labels for the three steps like so."
   ]
  },
  {
   "cell_type": "code",
   "execution_count": null,
   "metadata": {},
   "outputs": [],
   "source": [
    "hanoi(3, origin=1, intermediate=2, destination=3)"
   ]
  },
  {
   "cell_type": "markdown",
   "metadata": {},
   "source": [
    "#### \"Passing up\" a Count Variable\n",
    "\n",
    "Often times, we need to calculate a summary value in a \"backwards\" fashion. Say, for example, we did not know about the analytical formula for the number of minimal moves given $n$. In such cases, we could modify a recursive function to return some value. In fact, this is what we actually do in most cases like the `factorial()` or `fibonacci()` functions in chapter 5.\n",
    "\n",
    "Let's create a new `hanoi_moves()` function that follows the same logic as the above `hanoi()` function but instead of printing out the steps returns the number of steps done so far in the recursion."
   ]
  },
  {
   "cell_type": "markdown",
   "metadata": {},
   "source": [
    "**Q15.12**: What count should we return in the base case?"
   ]
  },
  {
   "cell_type": "markdown",
   "metadata": {},
   "source": [
    " "
   ]
  },
  {
   "cell_type": "markdown",
   "metadata": {},
   "source": [
    "**Q15.13**: Copy the down the code to handle the base case from `hanoi()` to `hanoi_moves()` and return the number from the previous question."
   ]
  },
  {
   "cell_type": "markdown",
   "metadata": {},
   "source": [
    "**Q15.14**: Initialize the variable `moves` with an appropriate value and update it with the two recursive function calls. Note that instead of the `print()` between the two function calls we can safely pull the initialization of `moves` before them."
   ]
  },
  {
   "cell_type": "code",
   "execution_count": null,
   "metadata": {},
   "outputs": [],
   "source": [
    "def hanoi_moves(disks, *, origin=\"left\", intermediate=\"center\", destination=\"right\"):\n",
    "\n",
    "    # Handle the base case by returning its number of solutions.\n",
    "\n",
    "    # Initialize moves with the correct value.\n",
    "    moves = ...\n",
    "    # Complete the recursion by calling the function itself with\n",
    "    #(changed) arguments and use the returned values to update moves.\n",
    "    moves ... hanoi_moves(..., origin=..., intermediate=..., destination=...)\n",
    "    moves ... hanoi_moves(..., origin=..., intermediate=..., destination=...)\n",
    "\n",
    "    return moves"
   ]
  },
  {
   "cell_type": "code",
   "execution_count": null,
   "metadata": {},
   "outputs": [],
   "source": [
    "hanoi_moves(1)"
   ]
  },
  {
   "cell_type": "code",
   "execution_count": null,
   "metadata": {},
   "outputs": [],
   "source": [
    "hanoi_moves(2)"
   ]
  },
  {
   "cell_type": "code",
   "execution_count": null,
   "metadata": {},
   "outputs": [],
   "source": [
    "hanoi_moves(3)"
   ]
  },
  {
   "cell_type": "markdown",
   "metadata": {},
   "source": [
    "**Q15.15**: Write a `for` loop that prints out the minimum number of moves needed to solve Towers of Hanoi for any number of disks between $n=1$ and $n=15$ to confirm your answer to **Q15.2**."
   ]
  },
  {
   "cell_type": "code",
   "execution_count": null,
   "metadata": {},
   "outputs": [],
   "source": [
    "\n"
   ]
  },
  {
   "cell_type": "markdown",
   "metadata": {},
   "source": [
    "#### Time Complexity\n",
    "\n",
    "Observe how quickly the `hanoi_moves()` function slows down for increasing $n$. For $n$ in $25$, $26$, $27$, and $28$ we see that the computation time roughly doubles for each increase by $1$. Clearly, the monks referenced in the video have a big problem to solve."
   ]
  },
  {
   "cell_type": "code",
   "execution_count": null,
   "metadata": {},
   "outputs": [],
   "source": [
    "%%timeit -n 1 -r 1\n",
    "print(\"Number of moves:\", hanoi_moves(10))"
   ]
  },
  {
   "cell_type": "code",
   "execution_count": null,
   "metadata": {},
   "outputs": [],
   "source": [
    "%%timeit -n 1 -r 1\n",
    "print(\"Number of moves:\", hanoi_moves(15))"
   ]
  },
  {
   "cell_type": "code",
   "execution_count": null,
   "metadata": {},
   "outputs": [],
   "source": [
    "%%timeit -n 1 -r 1\n",
    "print(\"Number of moves:\", hanoi_moves(20))"
   ]
  },
  {
   "cell_type": "code",
   "execution_count": null,
   "metadata": {},
   "outputs": [],
   "source": [
    "%%timeit -n 1 -r 1\n",
    "print(\"Number of moves:\", hanoi_moves(25))"
   ]
  },
  {
   "cell_type": "code",
   "execution_count": null,
   "metadata": {},
   "outputs": [],
   "source": [
    "%%timeit -n 1 -r 1\n",
    "print(\"Number of moves:\", hanoi_moves(26))"
   ]
  },
  {
   "cell_type": "code",
   "execution_count": null,
   "metadata": {},
   "outputs": [],
   "source": [
    "%%timeit -n 1 -r 1\n",
    "print(\"Number of moves:\", hanoi_moves(27))"
   ]
  },
  {
   "cell_type": "code",
   "execution_count": null,
   "metadata": {},
   "outputs": [],
   "source": [
    "%%timeit -n 1 -r 1\n",
    "print(\"Number of moves:\", hanoi_moves(28))"
   ]
  },
  {
   "cell_type": "markdown",
   "metadata": {},
   "source": [
    "#### \"Passing down\" a Count Variable (Advanced)\n",
    "\n",
    "Let's look at how we can achieve the opposite and pass a value on in a \"forwards\" fashion. This might seem somewhat \"weird\" to do but there is quite a useful case for doing it. The above implementation of `hanoi()` prints the optimal solution's moves in the correct order but fails to put an order number to it. This can be build in by passing on one more argument `offset` down the recursion tree as we will see shortly."
   ]
  },
  {
   "cell_type": "markdown",
   "metadata": {},
   "source": [
    "**Q15.16**: Copy down the code handling the base case from the original `hanoi()` function."
   ]
  },
  {
   "cell_type": "markdown",
   "metadata": {},
   "source": [
    "**Q15.17**: The code stub below includes a `count` variable in the `print()` statement. To calculate the `count` number in the first function call, we need to determine the number that is right in the middle of the overal number of steps. For example, for $n=3$, we know that `count` must be $4$ because the total number of moves in the optimal solution is $7$. This is just the difference of the number of solutions for $n=3$, $7$, and $n=2$, $3$. Complete the code with the correct expressions for `total`, `half`, and `count` according to the stated observation."
   ]
  },
  {
   "cell_type": "markdown",
   "metadata": {},
   "source": [
    "**Q15.18**: The idea of the `offset` argument is to do what its name implies: to offset the centered value `count` in subsequent recursive calls. As it is very tricky to come up with, it is already implemented correctly. Describe in your own words why the values for the `offset` argument are set as they are."
   ]
  },
  {
   "cell_type": "markdown",
   "metadata": {},
   "source": [
    " "
   ]
  },
  {
   "cell_type": "code",
   "execution_count": null,
   "metadata": {},
   "outputs": [],
   "source": [
    "def hanoi(disks, *, origin=\"left\", intermediate=\"center\", destination=\"right\", offset=None):\n",
    "\n",
    "    # Handle the base case.\n",
    "\n",
    "    # Calculate total, half, and count according to the\n",
    "    # observation mentioned above.\n",
    "    total = ...\n",
    "    half = ...\n",
    "    count = ...\n",
    "\n",
    "    if offset is not None:\n",
    "        count += offset\n",
    "\n",
    "    # Complete the recursion by calling the function itself with (changed) arguments.\n",
    "    hanoi(..., origin=..., intermediate=..., destination=..., offset=offset)\n",
    "    print(count, ..., \"->\", ...)\n",
    "    hanoi(..., origin=..., intermediate=..., destination=..., offset=count)"
   ]
  },
  {
   "cell_type": "markdown",
   "metadata": {},
   "source": [
    "**Q15.19**: Execute the four cells below and confirm that the order number is strictly increasing."
   ]
  },
  {
   "cell_type": "code",
   "execution_count": null,
   "metadata": {},
   "outputs": [],
   "source": [
    "hanoi(1)"
   ]
  },
  {
   "cell_type": "code",
   "execution_count": null,
   "metadata": {},
   "outputs": [],
   "source": [
    "hanoi(2)"
   ]
  },
  {
   "cell_type": "code",
   "execution_count": null,
   "metadata": {},
   "outputs": [],
   "source": [
    "hanoi(3)"
   ]
  },
  {
   "cell_type": "code",
   "execution_count": null,
   "metadata": {},
   "outputs": [],
   "source": [
    "hanoi(4)"
   ]
  },
  {
   "cell_type": "markdown",
   "metadata": {},
   "source": [
    "Lastly, it is to be mentioned that for problem instances with a small $n$ it is easier to calculate all moves first and instead of printing them out collect them in a list and then put the order number next to them with the [enumerate()](https://docs.python.org/3/library/functions.html#enumerate) built-in. However, for large $n$ it is more practical to calculate the order number \"on the fly\" by passing information down the recursion tree."
   ]
  }
 ],
 "metadata": {
  "kernelspec": {
   "display_name": "Python 3",
   "language": "python",
   "name": "python3"
  },
  "language_info": {
   "codemirror_mode": {
    "name": "ipython",
    "version": 3
   },
   "file_extension": ".py",
   "mimetype": "text/x-python",
   "name": "python",
   "nbconvert_exporter": "python",
   "pygments_lexer": "ipython3",
   "version": "3.6.7"
  }
 },
 "nbformat": 4,
 "nbformat_minor": 2
}
