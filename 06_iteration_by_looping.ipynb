{
 "cells": [
  {
   "cell_type": "markdown",
   "metadata": {
    "slideshow": {
     "slide_type": "slide"
    }
   },
   "source": [
    "# Chapter 6: Iteration by Looping"
   ]
  },
  {
   "cell_type": "markdown",
   "metadata": {
    "slideshow": {
     "slide_type": "skip"
    }
   },
   "source": [
    "## TL;DR\n",
    "\n",
    "The `while` and `for` statements are an alternative way (as compared to recursion) to run a code block repeatedly and, thus, control the flow of execution. They are (often) easier to comprehend. However, it adds no new expressive power as compared to just using the `def` and `if` statements in a recursion."
   ]
  },
  {
   "cell_type": "markdown",
   "metadata": {
    "slideshow": {
     "slide_type": "slide"
    }
   },
   "source": [
    "## The `while` Statement"
   ]
  },
  {
   "cell_type": "markdown",
   "metadata": {
    "slideshow": {
     "slide_type": "skip"
    }
   },
   "source": [
    "Whereas functions combined with `if` statements suffice to model any type of iteration, Python comes with a **compound while-statement** that consists of a header line with a boolean expression followed by an indented code block (= body). Before the first and after every execution of the code block, the boolean expression is evaluated and if equal to `True`, the code block runs (again). Eventually, some variable referenced in the boolean expression is changed in the code block such that the condition becomes `False`. If the condition is `False` before the first iteration, the entire code block is never executed. As the flow of control keeps looping back to the beginning of the code block, this concept is also called a **while-loop**."
   ]
  },
  {
   "cell_type": "markdown",
   "metadata": {
    "slideshow": {
     "slide_type": "slide"
    }
   },
   "source": [
    "#### Simple Example (revisited)"
   ]
  },
  {
   "cell_type": "markdown",
   "metadata": {
    "slideshow": {
     "slide_type": "skip"
    }
   },
   "source": [
    "Let's rewrite the previous simple `countdown` example."
   ]
  },
  {
   "cell_type": "code",
   "execution_count": 1,
   "metadata": {
    "slideshow": {
     "slide_type": "slide"
    }
   },
   "outputs": [],
   "source": [
    "def countdown(n):\n",
    "    \"\"\"Print a countdown until the party starts.\n",
    "\n",
    "    Args:\n",
    "        n (int): seconds until the party begins\n",
    "    \"\"\"\n",
    "    while n > 0:\n",
    "        print(n)\n",
    "        n -= 1\n",
    "    # = base case\n",
    "    print(\"Happy new Year!\")"
   ]
  },
  {
   "cell_type": "code",
   "execution_count": 2,
   "metadata": {
    "slideshow": {
     "slide_type": "fragment"
    }
   },
   "outputs": [
    {
     "name": "stdout",
     "output_type": "stream",
     "text": [
      "3\n",
      "2\n",
      "1\n",
      "Happy new Year!\n"
     ]
    }
   ],
   "source": [
    "countdown(3)"
   ]
  },
  {
   "cell_type": "markdown",
   "metadata": {
    "slideshow": {
     "slide_type": "skip"
    }
   },
   "source": [
    "As the stack diagram in [PythonTutor](http://pythontutor.com/visualize.html#code=def%20countdown%28n%29%3A%0A%20%20%20%20while%20n%20%3E%200%3A%0A%20%20%20%20%20%20%20%20print%28n%29%0A%20%20%20%20%20%20%20%20n%20%3D%20n%20-%201%0A%20%20%20%20print%28%22Happy%20new%20Year!%22%29%0A%0Acountdown%283%29&cumulative=false&curInstr=0&heapPrimitives=nevernest&mode=display&origin=opt-frontend.js&py=3&rawInputLstJSON=%5B%5D&textReferences=false) shows, there is a subtle difference in the way a `while` statement is treated in memory. In short, `while` statements can not run into a `RecursionError`. In common day-to-day applications this difference is, however, not important."
   ]
  },
  {
   "cell_type": "markdown",
   "metadata": {
    "slideshow": {
     "slide_type": "slide"
    }
   },
   "source": [
    "#### \"Still involved\" Example: [Euclid's Algorithm](https://en.wikipedia.org/wiki/Euclidean_algorithm) (revisited)"
   ]
  },
  {
   "cell_type": "markdown",
   "metadata": {
    "slideshow": {
     "slide_type": "skip"
    }
   },
   "source": [
    "Finding the greatest common divisor of two numbers is still not so obvious when using a `while` loop."
   ]
  },
  {
   "cell_type": "code",
   "execution_count": 3,
   "metadata": {
    "slideshow": {
     "slide_type": "slide"
    }
   },
   "outputs": [],
   "source": [
    "def gcd(a, b):\n",
    "    \"\"\"Calculate the greatest common divisor of two numbers.\n",
    "\n",
    "    Args:\n",
    "        a (int): first number\n",
    "        b (int): second number\n",
    "\n",
    "    Returns:\n",
    "        gcd (int)\n",
    "    \"\"\"\n",
    "    while a != b:\n",
    "        if a > b:\n",
    "           a -= b\n",
    "        else:\n",
    "           b -= a\n",
    "    return a"
   ]
  },
  {
   "cell_type": "code",
   "execution_count": 4,
   "metadata": {
    "slideshow": {
     "slide_type": "fragment"
    }
   },
   "outputs": [
    {
     "data": {
      "text/plain": [
       "4"
      ]
     },
     "execution_count": 4,
     "metadata": {},
     "output_type": "execute_result"
    }
   ],
   "source": [
    "gcd(12, 4)"
   ]
  },
  {
   "cell_type": "markdown",
   "metadata": {
    "slideshow": {
     "slide_type": "slide"
    }
   },
   "source": [
    "##### Efficiency of Algorithms (revisited)"
   ]
  },
  {
   "cell_type": "markdown",
   "metadata": {
    "slideshow": {
     "slide_type": "skip"
    }
   },
   "source": [
    "We can also see that this implementation seems way *less* efficient than its recursive counterpart."
   ]
  },
  {
   "cell_type": "code",
   "execution_count": 5,
   "metadata": {
    "slideshow": {
     "slide_type": "slide"
    }
   },
   "outputs": [
    {
     "name": "stdout",
     "output_type": "stream",
     "text": [
      "4.81 s ± 0 ns per loop (mean ± std. dev. of 1 run, 1 loop each)\n"
     ]
    }
   ],
   "source": [
    "%%timeit -n 1 -r 1\n",
    "gcd(112233445566778899, 987654321)"
   ]
  },
  {
   "cell_type": "markdown",
   "metadata": {
    "slideshow": {
     "slide_type": "slide"
    }
   },
   "source": [
    "## Infinite Loops"
   ]
  },
  {
   "cell_type": "markdown",
   "metadata": {
    "slideshow": {
     "slide_type": "skip"
    }
   },
   "source": [
    "As with recursion, we must ensure that the iteration process ends. For the above `countdown` example this is trivially true as we start with an arbitrary number that gets decremented by $1$ until it is not positive any more."
   ]
  },
  {
   "cell_type": "markdown",
   "metadata": {
    "slideshow": {
     "slide_type": "slide"
    }
   },
   "source": [
    "#### \"Mystery\" Example: [Collatz Conjecture](https://en.wikipedia.org/wiki/Collatz_conjecture)"
   ]
  },
  {
   "cell_type": "markdown",
   "metadata": {
    "slideshow": {
     "slide_type": "slide"
    }
   },
   "source": [
    "Let's play the following game:\n",
    "- think of any positive integer $n$\n",
    "- if $n$ is even, the next $n$ is half the old $n$\n",
    "- if $n$ is odd, the multiply the old $n$ by $3$ and add $1$\n",
    "- repeat these steps until we reach $1$\n",
    "\n",
    "**Do we always reach the final $1$?**"
   ]
  },
  {
   "cell_type": "markdown",
   "metadata": {
    "slideshow": {
     "slide_type": "skip"
    }
   },
   "source": [
    "The function below implements this game. Does it always reach $1$? No one has proven it so far!"
   ]
  },
  {
   "cell_type": "code",
   "execution_count": 6,
   "metadata": {
    "slideshow": {
     "slide_type": "slide"
    }
   },
   "outputs": [],
   "source": [
    "def collatz(n):\n",
    "    \"\"\"Print a Collatz sequence in descending order.\n",
    "\n",
    "    Start with any positive integer n.\n",
    "    Then each term is obtained from the previous term as follows:\n",
    "        - if the previous term is even,\n",
    "          the next term is half the previous term\n",
    "        - if the previous term is odd,\n",
    "          the next term is 3 times the previous term plus 1\n",
    "    The conjecture is that no matter what is the value of n,\n",
    "    the sequence will always reach 1.\n",
    "\n",
    "    Args:\n",
    "        n (int): a positive number to start the Collatz sequence at\n",
    "    \"\"\"\n",
    "    while n != 1:\n",
    "        print(n, end=\" \")\n",
    "        # n is even\n",
    "        if n % 2 == 0:\n",
    "            n = n // 2  # // used so that n remains an integer (vs. a float)\n",
    "        # n is odd\n",
    "        else:\n",
    "            n = 3 * n + 1\n",
    "    print(n)"
   ]
  },
  {
   "cell_type": "code",
   "execution_count": 7,
   "metadata": {
    "slideshow": {
     "slide_type": "slide"
    }
   },
   "outputs": [
    {
     "name": "stdout",
     "output_type": "stream",
     "text": [
      "100 50 25 76 38 19 58 29 88 44 22 11 34 17 52 26 13 40 20 10 5 16 8 4 2 1\n"
     ]
    }
   ],
   "source": [
    "collatz(100)"
   ]
  },
  {
   "cell_type": "code",
   "execution_count": 8,
   "metadata": {
    "slideshow": {
     "slide_type": "-"
    }
   },
   "outputs": [
    {
     "name": "stdout",
     "output_type": "stream",
     "text": [
      "1000 500 250 125 376 188 94 47 142 71 214 107 322 161 484 242 121 364 182 91 274 137 412 206 103 310 155 466 233 700 350 175 526 263 790 395 1186 593 1780 890 445 1336 668 334 167 502 251 754 377 1132 566 283 850 425 1276 638 319 958 479 1438 719 2158 1079 3238 1619 4858 2429 7288 3644 1822 911 2734 1367 4102 2051 6154 3077 9232 4616 2308 1154 577 1732 866 433 1300 650 325 976 488 244 122 61 184 92 46 23 70 35 106 53 160 80 40 20 10 5 16 8 4 2 1\n"
     ]
    }
   ],
   "source": [
    "collatz(1000)"
   ]
  },
  {
   "cell_type": "code",
   "execution_count": 9,
   "metadata": {
    "slideshow": {
     "slide_type": "-"
    }
   },
   "outputs": [
    {
     "name": "stdout",
     "output_type": "stream",
     "text": [
      "10000 5000 2500 1250 625 1876 938 469 1408 704 352 176 88 44 22 11 34 17 52 26 13 40 20 10 5 16 8 4 2 1\n"
     ]
    }
   ],
   "source": [
    "collatz(10000)"
   ]
  },
  {
   "cell_type": "code",
   "execution_count": 10,
   "metadata": {
    "slideshow": {
     "slide_type": "-"
    }
   },
   "outputs": [
    {
     "name": "stdout",
     "output_type": "stream",
     "text": [
      "100000 50000 25000 12500 6250 3125 9376 4688 2344 1172 586 293 880 440 220 110 55 166 83 250 125 376 188 94 47 142 71 214 107 322 161 484 242 121 364 182 91 274 137 412 206 103 310 155 466 233 700 350 175 526 263 790 395 1186 593 1780 890 445 1336 668 334 167 502 251 754 377 1132 566 283 850 425 1276 638 319 958 479 1438 719 2158 1079 3238 1619 4858 2429 7288 3644 1822 911 2734 1367 4102 2051 6154 3077 9232 4616 2308 1154 577 1732 866 433 1300 650 325 976 488 244 122 61 184 92 46 23 70 35 106 53 160 80 40 20 10 5 16 8 4 2 1\n"
     ]
    }
   ],
   "source": [
    "collatz(100000)"
   ]
  },
  {
   "cell_type": "markdown",
   "metadata": {
    "slideshow": {
     "slide_type": "slide"
    }
   },
   "source": [
    "## The `for` Statement"
   ]
  },
  {
   "cell_type": "markdown",
   "metadata": {
    "slideshow": {
     "slide_type": "skip"
    }
   },
   "source": [
    "Python provides a shortcut for the following very common pattern where a temporary \"index\" variable $i$ needs to be kept track of. The `for` statement loops over a sequence of objects. The `for` statement is really only what is called **syntactic sugar**, i.e., something that adds no new functionality but conveniently replaces a \"tedious\" pattern."
   ]
  },
  {
   "cell_type": "code",
   "execution_count": 11,
   "metadata": {
    "slideshow": {
     "slide_type": "slide"
    }
   },
   "outputs": [
    {
     "name": "stdout",
     "output_type": "stream",
     "text": [
      "0 1 2 3 4 5 6 7 8 9 "
     ]
    }
   ],
   "source": [
    "i = 0\n",
    "while i < 10:\n",
    "    print(i, end=\" \")\n",
    "    i += 1"
   ]
  },
  {
   "cell_type": "markdown",
   "metadata": {
    "slideshow": {
     "slide_type": "skip"
    }
   },
   "source": [
    "For sequences of integers the built-in function [range()](https://docs.python.org/3/library/functions.html#func-range) is useful: It creates a \"list\"-like object (just like `nums` in previous notebooks). At the beginning of each loop iteration the variable `i` is assigned to the next object in the list."
   ]
  },
  {
   "cell_type": "code",
   "execution_count": 12,
   "metadata": {
    "slideshow": {
     "slide_type": "fragment"
    }
   },
   "outputs": [
    {
     "name": "stdout",
     "output_type": "stream",
     "text": [
      "0 1 2 3 4 5 6 7 8 9 "
     ]
    }
   ],
   "source": [
    "for i in range(10):\n",
    "    print(i, end=\" \")"
   ]
  },
  {
   "cell_type": "markdown",
   "metadata": {
    "slideshow": {
     "slide_type": "slide"
    }
   },
   "source": [
    "### Containers & Iterables"
   ]
  },
  {
   "cell_type": "markdown",
   "metadata": {
    "slideshow": {
     "slide_type": "skip"
    }
   },
   "source": [
    "As we have seen before, looping works naturally on \"container\"-like objects like lists. **Containers** are any objects that are composed of other objects and also \"manage\" how these objects are organized. Lists, for example, have the propterty that they remember an order associated with its elements. There are, however, many other container types in Python as we will see in coming chapters.\n",
    "\n",
    "**Iterables** are a similar but different concept. Any object that we can \"loop over\", is by definition an iterable.\n",
    "\n",
    "Therefore, neither a container nor an iterable are concrete data types like `int`, `float`, or `str`. Quite the contrary is true: they are **abstract** concepts that may or may not be implemented by any concrete data type.\n",
    "\n",
    "Lists like `first_names` below are both, they are iterable containers (they are actually even more than that as we will see in the chapter on lists)."
   ]
  },
  {
   "cell_type": "code",
   "execution_count": 13,
   "metadata": {
    "slideshow": {
     "slide_type": "slide"
    }
   },
   "outputs": [],
   "source": [
    "first_names = [\"Achim\", \"Berthold\", \"Carl\", \"Diedrich\", \"Eckardt\"]"
   ]
  },
  {
   "cell_type": "markdown",
   "metadata": {
    "slideshow": {
     "slide_type": "skip"
    }
   },
   "source": [
    "The characteristic operator associated with a container is the `in` operator which checks if a given object evaluates equal to any of the objects in the container. In layman's terms, it checks if an object is \"contained\" in the container and this operation is also called **membership testing**."
   ]
  },
  {
   "cell_type": "code",
   "execution_count": 14,
   "metadata": {
    "slideshow": {
     "slide_type": "fragment"
    }
   },
   "outputs": [
    {
     "data": {
      "text/plain": [
       "True"
      ]
     },
     "execution_count": 14,
     "metadata": {},
     "output_type": "execute_result"
    }
   ],
   "source": [
    "\"Achim\" in first_names"
   ]
  },
  {
   "cell_type": "code",
   "execution_count": 15,
   "metadata": {
    "slideshow": {
     "slide_type": "-"
    }
   },
   "outputs": [
    {
     "data": {
      "text/plain": [
       "False"
      ]
     },
     "execution_count": 15,
     "metadata": {},
     "output_type": "execute_result"
    }
   ],
   "source": [
    "\"Alexander\" in first_names"
   ]
  },
  {
   "cell_type": "markdown",
   "metadata": {
    "slideshow": {
     "slide_type": "skip"
    }
   },
   "source": [
    "Similarily, the characteristic operation of an iterable is that it supports iteration via the `for ... in iterable:` syntax like the example below, where `name` is assigned the elements of the list `first_names` one by one in the same order as they occur in the list itself."
   ]
  },
  {
   "cell_type": "code",
   "execution_count": 16,
   "metadata": {
    "slideshow": {
     "slide_type": "fragment"
    }
   },
   "outputs": [
    {
     "name": "stdout",
     "output_type": "stream",
     "text": [
      "Achim   Berthold   Carl   Diedrich   Eckardt   "
     ]
    }
   ],
   "source": [
    "for name in first_names:\n",
    "    print(name, end=\"   \")"
   ]
  },
  {
   "cell_type": "markdown",
   "metadata": {
    "slideshow": {
     "slide_type": "skip"
    }
   },
   "source": [
    "If we need to have an index variable in the loop's body, we can use the built-in function [enumerate()](https://docs.python.org/3/library/functions.html#enumerate)."
   ]
  },
  {
   "cell_type": "code",
   "execution_count": 17,
   "metadata": {
    "slideshow": {
     "slide_type": "fragment"
    }
   },
   "outputs": [
    {
     "name": "stdout",
     "output_type": "stream",
     "text": [
      "0 > Achim   1 > Berthold   2 > Carl   3 > Diedrich   4 > Eckardt   "
     ]
    }
   ],
   "source": [
    "for i, name in enumerate(first_names):\n",
    "    print(i, name, sep=\" > \", end=\"   \")"
   ]
  },
  {
   "cell_type": "markdown",
   "metadata": {
    "slideshow": {
     "slide_type": "skip"
    }
   },
   "source": [
    "The built-in function [zip()](https://docs.python.org/3/library/functions.html#zip) allows us to combine the elements of two or more iterables in a pairwise fashion.\n",
    "\n",
    "The example below illustrates this:"
   ]
  },
  {
   "cell_type": "code",
   "execution_count": 18,
   "metadata": {
    "slideshow": {
     "slide_type": "slide"
    }
   },
   "outputs": [],
   "source": [
    "last_names = [\"Müller\", \"Meyer\", \"Mayer\", \"Schmitt\", \"Schmidt\"]"
   ]
  },
  {
   "cell_type": "code",
   "execution_count": 19,
   "metadata": {
    "slideshow": {
     "slide_type": "fragment"
    }
   },
   "outputs": [
    {
     "name": "stdout",
     "output_type": "stream",
     "text": [
      "Achim Müller\n",
      "Berthold Meyer\n",
      "Carl Mayer\n",
      "Diedrich Schmitt\n",
      "Eckardt Schmidt\n"
     ]
    }
   ],
   "source": [
    "for first_name, last_name in zip(first_names, last_names):\n",
    "    print(first_name, last_name)"
   ]
  },
  {
   "cell_type": "markdown",
   "metadata": {
    "slideshow": {
     "slide_type": "slide"
    }
   },
   "source": [
    "#### \"Hard at first Glance\" Example: [Fibonacci Numbers](https://en.wikipedia.org/wiki/Fibonacci_number) (revisited)"
   ]
  },
  {
   "cell_type": "markdown",
   "metadata": {
    "slideshow": {
     "slide_type": "skip"
    }
   },
   "source": [
    "In contrast to its recursive relative, the `fibonacci()` function below is somewhat harder to read. However, one advantage of calculating the Fibonacci numbers with a `for` statement is that we could list the entire sequence in ascending order. Note that we do not even need the index variable in the `for` loop (that is what the underscore \"\\_\" indicates).\n",
    "\n",
    "Here are the first 13 Fibonacci Numbers again:"
   ]
  },
  {
   "cell_type": "markdown",
   "metadata": {
    "slideshow": {
     "slide_type": "slide"
    }
   },
   "source": [
    "$0, 1, 1, 2, 3, 5, 8, 13, 21, 34, 55, 89, 144$"
   ]
  },
  {
   "cell_type": "code",
   "execution_count": 20,
   "metadata": {
    "slideshow": {
     "slide_type": "-"
    }
   },
   "outputs": [],
   "source": [
    "def fibonacci(i):\n",
    "    \"\"\"Calculate the ith Fibonacci number.\n",
    "\n",
    "    Args:\n",
    "        i (int): index of the Fibonacci number to calculate\n",
    "\n",
    "    Returns:\n",
    "        ith_fibonacci (int)\n",
    "    \"\"\"\n",
    "    a = 0\n",
    "    b = 1\n",
    "    for _ in range(i):  # a underscore \"_\" indicates that we do not need the loop's index variable\n",
    "        print(a, end=\" \")  # line added for didactical purposes\n",
    "        temp = a + b  # in the chapter on tuples we will see how to avoid using a temporary variable\n",
    "        a = b\n",
    "        b = temp\n",
    "    print(a, end=\" \")  # line added for didactical purposes\n",
    "    return a"
   ]
  },
  {
   "cell_type": "code",
   "execution_count": 21,
   "metadata": {
    "slideshow": {
     "slide_type": "fragment"
    }
   },
   "outputs": [
    {
     "name": "stdout",
     "output_type": "stream",
     "text": [
      "0 1 1 2 3 5 8 13 21 34 55 89 144 "
     ]
    },
    {
     "data": {
      "text/plain": [
       "144"
      ]
     },
     "execution_count": 21,
     "metadata": {},
     "output_type": "execute_result"
    }
   ],
   "source": [
    "fibonacci(12)  # = 13th number"
   ]
  },
  {
   "cell_type": "markdown",
   "metadata": {
    "slideshow": {
     "slide_type": "slide"
    }
   },
   "source": [
    "##### Efficiency of Algorithms (continued)"
   ]
  },
  {
   "cell_type": "markdown",
   "metadata": {
    "slideshow": {
     "slide_type": "skip"
    }
   },
   "source": [
    "Another more important advantage is that now we can calculate even big Fibonacci numbers *very efficiently*."
   ]
  },
  {
   "cell_type": "code",
   "execution_count": 22,
   "metadata": {
    "slideshow": {
     "slide_type": "slide"
    }
   },
   "outputs": [
    {
     "name": "stdout",
     "output_type": "stream",
     "text": [
      "0 1 1 2 3 5 8 13 21 34 55 89 144 233 377 610 987 1597 2584 4181 6765 10946 17711 28657 46368 75025 121393 196418 317811 514229 832040 1346269 2178309 3524578 5702887 9227465 14930352 24157817 39088169 63245986 102334155 165580141 267914296 433494437 701408733 1134903170 1836311903 2971215073 4807526976 7778742049 12586269025 20365011074 32951280099 53316291173 86267571272 139583862445 225851433717 365435296162 591286729879 956722026041 1548008755920 2504730781961 4052739537881 6557470319842 10610209857723 17167680177565 27777890035288 44945570212853 72723460248141 117669030460994 190392490709135 308061521170129 498454011879264 806515533049393 1304969544928657 2111485077978050 3416454622906707 5527939700884757 8944394323791464 14472334024676221 23416728348467685 37889062373143906 61305790721611591 99194853094755497 160500643816367088 259695496911122585 420196140727489673 679891637638612258 1100087778366101931 1779979416004714189 2880067194370816120 4660046610375530309 7540113804746346429 12200160415121876738 19740274219868223167 31940434634990099905 51680708854858323072 83621143489848422977 135301852344706746049 218922995834555169026 "
     ]
    },
    {
     "data": {
      "text/plain": [
       "218922995834555169026"
      ]
     },
     "execution_count": 22,
     "metadata": {},
     "output_type": "execute_result"
    }
   ],
   "source": [
    "fibonacci(99)  # = 100th number"
   ]
  },
  {
   "cell_type": "markdown",
   "metadata": {
    "slideshow": {
     "slide_type": "slide"
    }
   },
   "source": [
    "#### Easy Example: [Factorial](https://en.wikipedia.org/wiki/Factorial) (revisited)"
   ]
  },
  {
   "cell_type": "markdown",
   "metadata": {
    "slideshow": {
     "slide_type": "skip"
    }
   },
   "source": [
    "One advantage of calculating the factorial with a `for` statement is that we could track the intermediate result as it \"grows\" (note that the [range()](https://docs.python.org/3/library/functions.html#func-range) function takes optional *start* and *step* arguments)."
   ]
  },
  {
   "cell_type": "code",
   "execution_count": 23,
   "metadata": {
    "slideshow": {
     "slide_type": "slide"
    }
   },
   "outputs": [],
   "source": [
    "def factorial(n):\n",
    "    \"\"\"Calculate the factorial of a number.\n",
    "\n",
    "    Args:\n",
    "        n (int): number to calculate the factorial of, must be positive\n",
    "\n",
    "    Returns:\n",
    "        factorial (int)\n",
    "\n",
    "    Raises:\n",
    "        TypeError: if n is not an integer type\n",
    "        ValueError: if n is negative\n",
    "    \"\"\"\n",
    "    if not isinstance(n, int):\n",
    "        raise TypeError(\"Factorial is only defined for integers.\")\n",
    "    elif n < 0:\n",
    "        raise ValueError(\"Factorial is not defined for negative integers.\")\n",
    "    result = 1  # because 0! = 1\n",
    "    for i in range(1, n + 1):  # loop starts at 1 as 0! is already covered\n",
    "        result = result * i\n",
    "        print(result, end=\" \")  # line added for didactical purposes\n",
    "    return result"
   ]
  },
  {
   "cell_type": "code",
   "execution_count": 24,
   "metadata": {
    "slideshow": {
     "slide_type": "fragment"
    }
   },
   "outputs": [
    {
     "name": "stdout",
     "output_type": "stream",
     "text": [
      "1 2 6 24 120 720 5040 40320 362880 3628800 "
     ]
    },
    {
     "data": {
      "text/plain": [
       "3628800"
      ]
     },
     "execution_count": 24,
     "metadata": {},
     "output_type": "execute_result"
    }
   ],
   "source": [
    "factorial(10)"
   ]
  },
  {
   "cell_type": "markdown",
   "metadata": {
    "slideshow": {
     "slide_type": "slide"
    }
   },
   "source": [
    "## More Flow Control"
   ]
  },
  {
   "cell_type": "markdown",
   "metadata": {
    "slideshow": {
     "slide_type": "slide"
    }
   },
   "source": [
    "### The `break` Statement"
   ]
  },
  {
   "cell_type": "markdown",
   "metadata": {
    "slideshow": {
     "slide_type": "skip"
    }
   },
   "source": [
    "Let's say we have a list of names and we think that some famous person by the name of \"Marlene Dietrich\" is on it somewhere. And maybe some other famous person by the name of \"Helene Fischer\" could be on it as well. We would like our little program to print whether or not a famous person is on the list."
   ]
  },
  {
   "cell_type": "code",
   "execution_count": 25,
   "metadata": {
    "slideshow": {
     "slide_type": "slide"
    }
   },
   "outputs": [],
   "source": [
    "people = [\"Lisa Müller\", \"Helma Meyer\", \"Marlene Dietrich\", \"Anne Schneider\", \"Berta Becker\"]"
   ]
  },
  {
   "cell_type": "markdown",
   "metadata": {
    "slideshow": {
     "slide_type": "skip"
    }
   },
   "source": [
    "In order to check if one or both are in the list, we iterate over it and check for each element if the name matches.\n",
    "\n",
    "A first naive implementation could look like this."
   ]
  },
  {
   "cell_type": "code",
   "execution_count": 26,
   "metadata": {
    "slideshow": {
     "slide_type": "fragment"
    }
   },
   "outputs": [
    {
     "name": "stdout",
     "output_type": "stream",
     "text": [
      "Lisa Müller   Helma Meyer   Marlene Dietrich   Anne Schneider   Berta Becker   Found: Marlene Dietrich\n"
     ]
    }
   ],
   "source": [
    "star = \"Marlene Dietrich\"\n",
    "\n",
    "on_list = False\n",
    "\n",
    "for person in people:\n",
    "    print(person, end=\"   \")  # line added for didactical purposes\n",
    "    if person == star:\n",
    "        on_list = True\n",
    "\n",
    "if on_list:\n",
    "    print(\"Found:\", star)\n",
    "else:\n",
    "    print(\"Did not find:\", star)"
   ]
  },
  {
   "cell_type": "markdown",
   "metadata": {
    "slideshow": {
     "slide_type": "skip"
    }
   },
   "source": [
    "This implementation is rather inefficient as even if the star is at the beginning of the list, we will iterate until the very end, which could take very long for a big list. Also, we need to write an `if`-`else` logic seperate from the `for` loop to check for the final result.\n",
    "\n",
    "Python provides a `break` statement that let's us stop the `for` loop at any point we want."
   ]
  },
  {
   "cell_type": "code",
   "execution_count": 27,
   "metadata": {
    "slideshow": {
     "slide_type": "slide"
    }
   },
   "outputs": [
    {
     "name": "stdout",
     "output_type": "stream",
     "text": [
      "Lisa Müller   Helma Meyer   Marlene Dietrich   Found: Marlene Dietrich\n"
     ]
    }
   ],
   "source": [
    "star = \"Marlene Dietrich\"\n",
    "\n",
    "on_list = False\n",
    "\n",
    "for person in people:\n",
    "    print(person, end=\"   \")  # line added for didactical purposes\n",
    "    if person == star:\n",
    "        on_list = True\n",
    "        break\n",
    "\n",
    "if on_list:\n",
    "    print(\"Found:\", star)\n",
    "else:\n",
    "    print(\"Did not find:\", star)"
   ]
  },
  {
   "cell_type": "markdown",
   "metadata": {
    "slideshow": {
     "slide_type": "skip"
    }
   },
   "source": [
    "This is a computational improvement. However, this code is a bit \"weird\" in the sense that the `on_list` has to be initialized before the `for` loop."
   ]
  },
  {
   "cell_type": "markdown",
   "metadata": {
    "slideshow": {
     "slide_type": "slide"
    }
   },
   "source": [
    "### The `for`-`else` Clause"
   ]
  },
  {
   "cell_type": "markdown",
   "metadata": {
    "slideshow": {
     "slide_type": "skip"
    }
   },
   "source": [
    "To express the logic in a prettier way, we can add an `else` clause at the end of the `for` loop, which is only executed if the body in the `for` branch is *not* stopped before reaching the last element of the iterable. This way, the \"expressive\" power of our code increases. Not many other programming languages support this `for`-`else` branching, which turns out to be very useful in practice."
   ]
  },
  {
   "cell_type": "code",
   "execution_count": 28,
   "metadata": {
    "slideshow": {
     "slide_type": "slide"
    }
   },
   "outputs": [
    {
     "name": "stdout",
     "output_type": "stream",
     "text": [
      "Lisa Müller   Helma Meyer   Marlene Dietrich   Found: Marlene Dietrich\n"
     ]
    }
   ],
   "source": [
    "star = \"Marlene Dietrich\"\n",
    "\n",
    "for person in people:\n",
    "    print(person, end=\"   \")  # line added for didactical purposes\n",
    "    if person == star:\n",
    "        on_list = True\n",
    "        break\n",
    "else:\n",
    "    on_list = True\n",
    "\n",
    "if on_list:\n",
    "    print(\"Found:\", star)\n",
    "else:\n",
    "    print(\"Did not find:\", star)"
   ]
  },
  {
   "cell_type": "markdown",
   "metadata": {
    "slideshow": {
     "slide_type": "skip"
    }
   },
   "source": [
    "Now, we can incorporate the `if`-`else` logic into the `for` loop very easily and avoid the `on_list` variable alltogether."
   ]
  },
  {
   "cell_type": "code",
   "execution_count": 29,
   "metadata": {
    "slideshow": {
     "slide_type": "slide"
    }
   },
   "outputs": [
    {
     "name": "stdout",
     "output_type": "stream",
     "text": [
      "Found: Marlene Dietrich\n"
     ]
    }
   ],
   "source": [
    "star = \"Marlene Dietrich\"\n",
    "\n",
    "for person in people:\n",
    "    if person == star:\n",
    "        print(\"Found:\", star)\n",
    "        break\n",
    "else:\n",
    "    print(\"Did not find:\", star)"
   ]
  },
  {
   "cell_type": "markdown",
   "metadata": {
    "slideshow": {
     "slide_type": "skip"
    }
   },
   "source": [
    "Of course, if we search for \"Helene Fischer\" we have to iterate to the very end. There is no way to optimize this **[linear search](https://en.wikipedia.org/wiki/Linear_search)**, at least as long as we model the list of names with a Python `list`. More advanced data types, however, exist that help mitigate that downside."
   ]
  },
  {
   "cell_type": "code",
   "execution_count": 30,
   "metadata": {
    "slideshow": {
     "slide_type": "skip"
    }
   },
   "outputs": [
    {
     "name": "stdout",
     "output_type": "stream",
     "text": [
      "Did not find: Helene Fischer\n"
     ]
    }
   ],
   "source": [
    "star = \"Helene Fischer\"\n",
    "\n",
    "for person in people:\n",
    "    if person == star:\n",
    "        print(\"Found:\", star)\n",
    "        break\n",
    "else:\n",
    "    print(\"Did not find:\", star)"
   ]
  },
  {
   "cell_type": "markdown",
   "metadata": {
    "slideshow": {
     "slide_type": "slide"
    }
   },
   "source": [
    "### The `continue` Statement"
   ]
  },
  {
   "cell_type": "markdown",
   "metadata": {
    "slideshow": {
     "slide_type": "skip"
    }
   },
   "source": [
    "Often times we are given some iterable of numeric data (like a list of integers or a CSV file with many rows and columns) and then need to perform some operation on each element after possibly throwing away some of the data we do not want in our calculations (e.g., think of statistical outliers). `for` loops combined with `if` statements seem like a natural way to tackle such problems.\n",
    "\n",
    "Take the following computational task as an example:"
   ]
  },
  {
   "cell_type": "markdown",
   "metadata": {
    "slideshow": {
     "slide_type": "slide"
    }
   },
   "source": [
    "#### Example: One Simple Filter"
   ]
  },
  {
   "cell_type": "markdown",
   "metadata": {
    "slideshow": {
     "slide_type": "slide"
    }
   },
   "source": [
    "Calculate the sum of all even and transformed numbers in the list of integers from $1$ through $12$:\n",
    "- **\"all\"**: iterate from beginning to end of a list\n",
    "- **\"even\"**: filter out the odd numbers\n",
    "- **\"transformed\"**: change each even number according to, for example, $y := x^2 + 1$\n",
    "- **\"sum\"**: add up the individual transformed numbers"
   ]
  },
  {
   "cell_type": "code",
   "execution_count": 31,
   "metadata": {
    "slideshow": {
     "slide_type": "slide"
    }
   },
   "outputs": [],
   "source": [
    "numbers = [1, 2, 3, 4, 5, 6, 7, 8, 9, 10, 11, 12]"
   ]
  },
  {
   "cell_type": "code",
   "execution_count": 32,
   "metadata": {
    "slideshow": {
     "slide_type": "-"
    }
   },
   "outputs": [
    {
     "name": "stdout",
     "output_type": "stream",
     "text": [
      "2 > 5    4 > 17    6 > 37    8 > 65    10 > 101    12 > 145    "
     ]
    },
    {
     "data": {
      "text/plain": [
       "370"
      ]
     },
     "execution_count": 32,
     "metadata": {},
     "output_type": "execute_result"
    }
   ],
   "source": [
    "total = 0\n",
    "\n",
    "for x in numbers:\n",
    "    # Only keep with even numbers.\n",
    "    if x % 2 == 0:\n",
    "        y = (x ** 2) + 1\n",
    "        print(x, y, sep=\" > \", end=\"    \")  # line added for didactical purposes\n",
    "        total += y\n",
    "\n",
    "total"
   ]
  },
  {
   "cell_type": "markdown",
   "metadata": {
    "slideshow": {
     "slide_type": "skip"
    }
   },
   "source": [
    "The above code is still easily readable as it only involves two levels of indentation. In general, code gets harder to comprehend the more \"horizontal space\" it occupies. It is commonly considered good practice to grow a program \"vertically\" rather than \"horizontally\".\n",
    "\n",
    "Consider the next example, whose implementation in code already starts to look \"weird\"."
   ]
  },
  {
   "cell_type": "markdown",
   "metadata": {
    "slideshow": {
     "slide_type": "slide"
    }
   },
   "source": [
    "#### Example: \"Nested\" Filters"
   ]
  },
  {
   "cell_type": "markdown",
   "metadata": {
    "slideshow": {
     "slide_type": "slide"
    }
   },
   "source": [
    "Calculate the sum of every third number (after a transformation) in a list of integers from $1$ through $12$ but only if the number is even:\n",
    "- **\"every third\"**: iterate from beginning to end of a list and look at each number's list index\n",
    "- **\"even\"**: filter out the odd numbers\n",
    "- **\"transformation\"**: change each even number according to, for example, $y := x^2 + 1$\n",
    "- **\"sum\"**: add up the individual transformed numbers"
   ]
  },
  {
   "cell_type": "code",
   "execution_count": 33,
   "metadata": {
    "slideshow": {
     "slide_type": "slide"
    }
   },
   "outputs": [
    {
     "name": "stdout",
     "output_type": "stream",
     "text": [
      "6 > 37    12 > 145    "
     ]
    },
    {
     "data": {
      "text/plain": [
       "182"
      ]
     },
     "execution_count": 33,
     "metadata": {},
     "output_type": "execute_result"
    }
   ],
   "source": [
    "total = 0\n",
    "\n",
    "for i, x in enumerate(numbers, start=1):\n",
    "    # Only work with every third list element.\n",
    "    if i % 3 == 0:\n",
    "        # Only work with even numbers.\n",
    "        if x % 2 == 0:\n",
    "            y = (x ** 2) + 1\n",
    "            print(x, y, sep=\" > \", end=\"    \")  # line added for didactical purposes \n",
    "            total += y\n",
    "\n",
    "total"
   ]
  },
  {
   "cell_type": "markdown",
   "metadata": {
    "slideshow": {
     "slide_type": "skip"
    }
   },
   "source": [
    "Of course, one could object and say that we could combine the two `if` statements with the `and` operator as shown in the chapter on conditionals. Then we trade off less horizontal space with a more \"complex\" `if` logic. An alternative to that is to use Python's `continue` statement which causes a loop to jump back to its top and right into the next iteration skipping the rest of the code block.\n",
    "\n",
    "See the code fragement below that occupies more vertical space."
   ]
  },
  {
   "cell_type": "code",
   "execution_count": 34,
   "metadata": {
    "slideshow": {
     "slide_type": "slide"
    }
   },
   "outputs": [
    {
     "name": "stdout",
     "output_type": "stream",
     "text": [
      "6 > 37    12 > 145    "
     ]
    },
    {
     "data": {
      "text/plain": [
       "182"
      ]
     },
     "execution_count": 34,
     "metadata": {},
     "output_type": "execute_result"
    }
   ],
   "source": [
    "total = 0\n",
    "\n",
    "for i, x in enumerate(numbers, start=1):\n",
    "    # Only work with every third list element.\n",
    "    if i % 3 != 0:\n",
    "        continue\n",
    "    # Only work with even numbers.\n",
    "    elif x % 2 != 0:\n",
    "        continue\n",
    "\n",
    "    y = (x ** 2) + 1\n",
    "    print(x, y, sep=\" > \", end=\"    \")  # line added for didactical purposes \n",
    "    total += y\n",
    "\n",
    "total"
   ]
  },
  {
   "cell_type": "markdown",
   "metadata": {
    "slideshow": {
     "slide_type": "skip"
    }
   },
   "source": [
    "This is yet another illustration of why programming is an art. The two preceeding code fragments do exactly the same with identical time complexity. However, argubly the latter it a lot easier to read for a human, at least when the business logic grow beyond more than just two filters.\n",
    "\n",
    "The idea behind the `continue` statement is conceptually similar to the early exit pattern we have seen in the context of functions.\n",
    "\n",
    "The two examples can be modeled in an even better way as we will see in the chapter on lists and, in particular, in the section on the map, filter, and reduce paradigm.\n",
    "\n",
    "Both, the `break` and the `continue` statements, and the optional `else` clause are not only supported within `for` loops but also whenever a `while` loop is used."
   ]
  },
  {
   "cell_type": "markdown",
   "metadata": {
    "slideshow": {
     "slide_type": "slide"
    }
   },
   "source": [
    "### Indefinite Loops"
   ]
  },
  {
   "cell_type": "markdown",
   "metadata": {
    "slideshow": {
     "slide_type": "skip"
    }
   },
   "source": [
    "Often times, we find ourselves in situations where we do not (and can not) know ahead of time how often or until which point (i.e., a certain condition is fulfilled) a code block is to be executed."
   ]
  },
  {
   "cell_type": "markdown",
   "metadata": {
    "slideshow": {
     "slide_type": "slide"
    }
   },
   "source": [
    "#### Example: Guessing a Coin Toss"
   ]
  },
  {
   "cell_type": "markdown",
   "metadata": {
    "slideshow": {
     "slide_type": "skip"
    }
   },
   "source": [
    "Let's consider the following \"game\" where we randomly choose a variable to be either \"Heads\" or \"Tails\" and a user of our program has to guess it in advance.\n",
    "\n",
    "Python provides the built-in function [input()](https://docs.python.org/3/library/functions.html#input) that prints a message to the user and reads in a response as a simple `str` object. We use that to process \"dynamic\" (= unpredictable) input to our program. Further, we use the [random()](https://docs.python.org/3/library/random.html#random.random) function in the [random](https://docs.python.org/3/library/random.html) module to model a coin toss.\n",
    "\n",
    "A popular pattern to approach such unpredictable loops is to go with a `while True` loop which on its own would run forever. Then, once a certain event occurs, we `break` out of the loop.\n",
    "\n",
    "Let's look at a first naive implementation."
   ]
  },
  {
   "cell_type": "code",
   "execution_count": 35,
   "metadata": {
    "slideshow": {
     "slide_type": "slide"
    }
   },
   "outputs": [],
   "source": [
    "import random"
   ]
  },
  {
   "cell_type": "code",
   "execution_count": 36,
   "metadata": {
    "slideshow": {
     "slide_type": "-"
    }
   },
   "outputs": [],
   "source": [
    "random.seed(42)"
   ]
  },
  {
   "cell_type": "code",
   "execution_count": 37,
   "metadata": {
    "slideshow": {
     "slide_type": "-"
    }
   },
   "outputs": [
    {
     "name": "stdout",
     "output_type": "stream",
     "text": [
      "Guess if the coin comes up as heads or tails: Heads\n",
      "Ooops, it was heads\n",
      "Guess if the coin comes up as heads or tails: heads\n",
      "Ooops, it was tails\n",
      "Guess if the coin comes up as heads or tails: tails\n",
      "Yes, it was tails\n"
     ]
    }
   ],
   "source": [
    "while True:\n",
    "    guess = input(\"Guess if the coin comes up as heads or tails: \")\n",
    "\n",
    "    if random.random() > 0.5:\n",
    "        if guess == \"heads\":\n",
    "            print(\"Yes, it was heads\")\n",
    "            break\n",
    "        else:\n",
    "            print(\"Ooops, it was heads\")\n",
    "    else:\n",
    "        if guess == \"tails\":\n",
    "            print(\"Yes, it was tails\")\n",
    "            break\n",
    "        else:\n",
    "            print(\"Ooops, it was tails\")"
   ]
  },
  {
   "cell_type": "markdown",
   "metadata": {
    "slideshow": {
     "slide_type": "skip"
    }
   },
   "source": [
    "This version has several aspects where we can improve on. First, if a user enters something other than \"heads\" or \"tails\" (e.g., \"Heads\" or \"Tails\"), the program keeps running without the user knowing about his mistake. Second, it intermingles the coin tossing with the comparison against the user's input. Such a mixing of unrelated business logic makes a program harder to maintain in the long run."
   ]
  },
  {
   "cell_type": "markdown",
   "metadata": {
    "slideshow": {
     "slide_type": "slide"
    }
   },
   "source": [
    "#### Example: Guessing a Coin Toss (revisited)"
   ]
  },
  {
   "cell_type": "markdown",
   "metadata": {
    "slideshow": {
     "slide_type": "skip"
    }
   },
   "source": [
    "Let's refactor the code to be a lot more modular and comprehendable.\n",
    "\n",
    "First, we divide the logic into two functions `get_guess()` and `toss_coin()` that are controlled from within a `while` loop.\n",
    "\n",
    "`get_guess()` not only reads in the user's input but also implements a very simple input validation pattern in that the [strip()](https://docs.python.org/3/library/stdtypes.html?highlight=__contains__#str.strip) and [lower()](https://docs.python.org/3/library/stdtypes.html?highlight=__contains__#str.lower) methods remove preceeding and trailing whitespace and ensure that the user can spell the input in whatever way he likes (e.g. all upper or lower case). Also, we check if the user entered one of the two valid options and, if he did not, we return `None` to indicate that."
   ]
  },
  {
   "cell_type": "code",
   "execution_count": 38,
   "metadata": {
    "slideshow": {
     "slide_type": "slide"
    }
   },
   "outputs": [],
   "source": [
    "def get_guess():\n",
    "    \"\"\"Process ther user's input.\n",
    "    \n",
    "    Returns:\n",
    "        guess (str / NoneType): either \"heads\" or \"tails\"\n",
    "            if the input can be parsed and None otherwise\n",
    "    \"\"\"\n",
    "    guess = input(\"Guess if the coin comes up as heads or tails: \")\n",
    "    # Handle frequent cases of \"misspelled\" user input.\n",
    "    guess = guess.strip().lower()\n",
    "    # Return None if the user's input is invalid.\n",
    "    if guess in [\"heads\", \"tails\"]:\n",
    "        return guess\n",
    "    return None"
   ]
  },
  {
   "cell_type": "markdown",
   "metadata": {
    "slideshow": {
     "slide_type": "skip"
    }
   },
   "source": [
    "`toss_coin()` is a very simple function that by default models a fair coin toss."
   ]
  },
  {
   "cell_type": "code",
   "execution_count": 39,
   "metadata": {
    "slideshow": {
     "slide_type": "slide"
    }
   },
   "outputs": [],
   "source": [
    "def toss_coin(p_heads=0.5):\n",
    "    \"\"\"Simulate the tossing of a (biased) coin.\n",
    "\n",
    "    Args:\n",
    "        p_heads (optional, float): probability that the coin comes up \"heads\",\n",
    "            defaults to 0.5, which resembles a fair coin\n",
    "    Returns:\n",
    "        coin (str): \"heads\" or \"tails\"\n",
    "    \"\"\"\n",
    "    if random.random() > p_heads:\n",
    "        return \"heads\"\n",
    "    return \"tails\""
   ]
  },
  {
   "cell_type": "markdown",
   "metadata": {
    "slideshow": {
     "slide_type": "skip"
    }
   },
   "source": [
    "Second, we explictly handle the case where `get_guess()` returns `None` (i.e., the user input is invalid) and show a warning to the user."
   ]
  },
  {
   "cell_type": "code",
   "execution_count": 40,
   "metadata": {
    "slideshow": {
     "slide_type": "slide"
    }
   },
   "outputs": [],
   "source": [
    "random.seed(42)"
   ]
  },
  {
   "cell_type": "code",
   "execution_count": 41,
   "metadata": {
    "slideshow": {
     "slide_type": "-"
    }
   },
   "outputs": [
    {
     "name": "stdout",
     "output_type": "stream",
     "text": [
      "Guess if the coin comes up as heads or tails: invalid\n",
      "Make sure to enter your guess correctly!\n",
      "Guess if the coin comes up as heads or tails: heads\n",
      "Ooops, it was tails\n",
      "Guess if the coin comes up as heads or tails: tails\n",
      "Yes, it was tails\n"
     ]
    }
   ],
   "source": [
    "while True:\n",
    "    guess = get_guess()\n",
    "    result = toss_coin()\n",
    "    # Tell the user about invalid input.\n",
    "    if guess is None:\n",
    "        print(\"Make sure to enter your guess correctly!\")\n",
    "    # With valid input, evaluate the user's guess.\n",
    "    elif guess == result:\n",
    "        print(\"Yes, it was\", result)\n",
    "        break\n",
    "    else:\n",
    "        print(\"Ooops, it was\", result)"
   ]
  },
  {
   "cell_type": "markdown",
   "metadata": {
    "slideshow": {
     "slide_type": "skip"
    }
   },
   "source": [
    "Now, our little program's business logic (i.e., the `if`-`elif`-`else`-logic) is a lot easier to comprehend. Also, we can now easily make changes to the program as a whole. For example, we could make the `toss_coin()` function base the tossing on a probability distribution other than the uniform. In general, a modular architecture usually leads to improved software maintenance."
   ]
  }
 ],
 "metadata": {
  "kernelspec": {
   "display_name": "Python 3",
   "language": "python",
   "name": "python3"
  },
  "language_info": {
   "codemirror_mode": {
    "name": "ipython",
    "version": 3
   },
   "file_extension": ".py",
   "mimetype": "text/x-python",
   "name": "python",
   "nbconvert_exporter": "python",
   "pygments_lexer": "ipython3",
   "version": "3.6.7"
  },
  "livereveal": {
   "auto_select": "code",
   "auto_select_fragment": true,
   "scroll": true,
   "theme": "serif"
  }
 },
 "nbformat": 4,
 "nbformat_minor": 2
}
